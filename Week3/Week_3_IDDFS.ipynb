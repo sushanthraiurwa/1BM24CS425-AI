{
  "nbformat": 4,
  "nbformat_minor": 0,
  "metadata": {
    "colab": {
      "provenance": [],
      "authorship_tag": "ABX9TyOrBdSybkG4Lziq8N+pNfE0",
      "include_colab_link": true
    },
    "kernelspec": {
      "name": "python3",
      "display_name": "Python 3"
    },
    "language_info": {
      "name": "python"
    }
  },
  "cells": [
    {
      "cell_type": "markdown",
      "metadata": {
        "id": "view-in-github",
        "colab_type": "text"
      },
      "source": [
        "<a href=\"https://colab.research.google.com/github/Shashank-u803/AI-Lab/blob/main/Week%203/Week_3_IDDFS.ipynb\" target=\"_parent\"><img src=\"https://colab.research.google.com/assets/colab-badge.svg\" alt=\"Open In Colab\"/></a>"
      ]
    },
    {
      "cell_type": "code",
      "execution_count": 2,
      "metadata": {
        "colab": {
          "base_uri": "https://localhost:8080/"
        },
        "id": "1LBM77cSwfIF",
        "outputId": "e3134a99-646e-4fe9-8bd3-277763aa6486"
      },
      "outputs": [
        {
          "output_type": "stream",
          "name": "stdout",
          "text": [
            "Enter the initial state (0 for blank, space-separated, 9 numbers):\n",
            "2 8 3 1 6 4 7 0 5\n",
            "Enter the goal state (0 for blank, space-separated, 9 numbers):\n",
            "1 2 3 8 0 4 7 6 5\n",
            "\n",
            "Solving puzzle with Iterative Deepening DFS...\n",
            "\n",
            "Optimal solution found using IDDFS!\n",
            "\n",
            "Total steps: 5\n",
            "Initial State:\n",
            "(2, 8, 3)\n",
            "(1, 6, 4)\n",
            "(7, 0, 5)\n",
            "\n",
            "Move: Up\n",
            "(2, 8, 3)\n",
            "(1, 0, 4)\n",
            "(7, 6, 5)\n",
            "\n",
            "Move: Up\n",
            "(2, 0, 3)\n",
            "(1, 8, 4)\n",
            "(7, 6, 5)\n",
            "\n",
            "Move: Left\n",
            "(0, 2, 3)\n",
            "(1, 8, 4)\n",
            "(7, 6, 5)\n",
            "\n",
            "Move: Down\n",
            "(1, 2, 3)\n",
            "(0, 8, 4)\n",
            "(7, 6, 5)\n",
            "\n",
            "Move: Right\n",
            "(1, 2, 3)\n",
            "(8, 0, 4)\n",
            "(7, 6, 5)\n",
            "\n"
          ]
        }
      ],
      "source": [
        "from collections import deque\n",
        "\n",
        "# Helper to print board in 3x3 format\n",
        "def print_board(state):\n",
        "    for i in range(0, 9, 3):\n",
        "        print(state[i:i+3])\n",
        "    print()\n",
        "\n",
        "# Generate possible moves\n",
        "def get_neighbors(state):\n",
        "    neighbors = []\n",
        "    idx = state.index(0)  # blank space\n",
        "    row, col = divmod(idx, 3)\n",
        "    moves = []\n",
        "    if row > 0: moves.append((-1, 0, 'Up'))\n",
        "    if row < 2: moves.append((1, 0, 'Down'))\n",
        "    if col > 0: moves.append((0, -1, 'Left'))\n",
        "    if col < 2: moves.append((0, 1, 'Right'))\n",
        "\n",
        "    for dr, dc, action in moves:\n",
        "        new_row, new_col = row + dr, col + dc\n",
        "        new_idx = new_row * 3 + new_col\n",
        "        new_state = list(state)\n",
        "        new_state[idx], new_state[new_idx] = new_state[new_idx], new_state[idx]\n",
        "        neighbors.append((tuple(new_state), action))\n",
        "    return neighbors\n",
        "\n",
        "# Depth-Limited Search (helper for IDDFS)\n",
        "def dls(state, goal, depth, path, explored):\n",
        "    if state == goal:\n",
        "        return path\n",
        "    if depth == 0:\n",
        "        return None\n",
        "    explored.add(state)\n",
        "    for neighbor, action in get_neighbors(state):\n",
        "        if neighbor not in explored:\n",
        "            result = dls(neighbor, goal, depth-1, path + [(action, neighbor)], explored)\n",
        "            if result is not None:\n",
        "                return result\n",
        "    return None\n",
        "\n",
        "# Iterative Deepening DFS\n",
        "def iddfs(start, goal, max_depth=50):\n",
        "    for depth in range(max_depth):\n",
        "        explored = set()\n",
        "        result = dls(start, goal, depth, [], explored)\n",
        "        if result is not None:\n",
        "            return result\n",
        "    return None\n",
        "\n",
        "if __name__ == \"__main__\":\n",
        "    print(\"Enter the initial state (0 for blank, space-separated, 9 numbers):\")\n",
        "    start = tuple(map(int, input().split()))\n",
        "\n",
        "    print(\"Enter the goal state (0 for blank, space-separated, 9 numbers):\")\n",
        "    goal = tuple(map(int, input().split()))\n",
        "\n",
        "    print(\"\\nSolving puzzle with Iterative Deepening DFS...\\n\")\n",
        "    solution = iddfs(start, goal)\n",
        "\n",
        "    if solution:\n",
        "        print(\"Optimal solution found using IDDFS!\\n\")\n",
        "        print(\"Total steps:\", len(solution))\n",
        "        current = start\n",
        "        print(\"Initial State:\")\n",
        "        print_board(current)\n",
        "        for step, state in solution:\n",
        "            print(\"Move:\", step)\n",
        "            print_board(state)\n",
        "    else:\n",
        "        print(\"No solution found within depth limit.\")\n"
      ]
    }
  ]
}