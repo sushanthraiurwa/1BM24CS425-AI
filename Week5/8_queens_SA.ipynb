{
  "nbformat": 4,
  "nbformat_minor": 0,
  "metadata": {
    "colab": {
      "provenance": [],
      "authorship_tag": "ABX9TyNVP2RfGVU1o3/ISdzM+NuC",
      "include_colab_link": true
    },
    "kernelspec": {
      "name": "python3",
      "display_name": "Python 3"
    },
    "language_info": {
      "name": "python"
    }
  },
  "cells": [
    {
      "cell_type": "markdown",
      "metadata": {
        "id": "view-in-github",
        "colab_type": "text"
      },
      "source": [
        "<a href=\"https://colab.research.google.com/github/Shashank-u803/AI-Lab/blob/main/Week%205/8_queens_SA.ipynb\" target=\"_parent\"><img src=\"https://colab.research.google.com/assets/colab-badge.svg\" alt=\"Open In Colab\"/></a>"
      ]
    },
    {
      "cell_type": "code",
      "execution_count": 6,
      "metadata": {
        "colab": {
          "base_uri": "https://localhost:8080/"
        },
        "id": "dt4OUssD3AY2",
        "outputId": "d16aa44a-60f4-4e35-bf1f-c86ac302d26a"
      },
      "outputs": [
        {
          "output_type": "stream",
          "name": "stdout",
          "text": [
            "Enter the row positions (0 to 7) of the queens for each column:\n",
            "Column 0: 4\n",
            "Column 1: 6\n",
            "Column 2: 1\n",
            "Column 3: 5\n",
            "Column 4: 2\n",
            "Column 5: 0\n",
            "Column 6: 3\n",
            "Column 7: 7\n",
            "Initial heuristic: 0\n",
            " .  .  .  .  .  Q  .  . \n",
            " .  .  Q  .  .  .  .  . \n",
            " .  .  .  .  Q  .  .  . \n",
            " .  .  .  .  .  .  Q  . \n",
            " Q  .  .  .  .  .  .  . \n",
            " .  .  .  Q  .  .  .  . \n",
            " .  Q  .  .  .  .  .  . \n",
            " .  .  .  .  .  .  .  Q \n",
            "\n",
            "Solution found!\n",
            "Final heuristic: 0\n",
            " .  .  .  .  .  Q  .  . \n",
            " .  .  Q  .  .  .  .  . \n",
            " .  .  .  .  Q  .  .  . \n",
            " .  .  .  .  .  .  Q  . \n",
            " Q  .  .  .  .  .  .  . \n",
            " .  .  .  Q  .  .  .  . \n",
            " .  Q  .  .  .  .  .  . \n",
            " .  .  .  .  .  .  .  Q \n",
            "\n"
          ]
        }
      ],
      "source": [
        "import random\n",
        "import math\n",
        "\n",
        "def get_user_input(n):\n",
        "    board = []\n",
        "    print(f\"Enter the row positions (0 to {n-1}) of the queens for each column:\")\n",
        "    for col in range(n):\n",
        "        while True:\n",
        "            try:\n",
        "                row = int(input(f\"Column {col}: \"))\n",
        "                if 0 <= row < n:\n",
        "                    board.append(row)\n",
        "                    break\n",
        "                else:\n",
        "                    print(f\"Invalid input. Please enter a number between 0 and {n-1}.\")\n",
        "            except ValueError:\n",
        "                print(\"Invalid input. Please enter an integer.\")\n",
        "    return board\n",
        "\n",
        "def print_board(board):\n",
        "    n = len(board)\n",
        "    for row in range(n):\n",
        "        line = \"\"\n",
        "        for col in range(n):\n",
        "            line += \" Q \" if board[col] == row else \" . \"\n",
        "        print(line)\n",
        "    print()\n",
        "\n",
        "def heuristic(board):\n",
        "    n = len(board)\n",
        "    attacks = 0\n",
        "    for i in range(n):\n",
        "        for j in range(i+1, n):\n",
        "            if board[i] == board[j] or abs(board[i] - board[j]) == abs(i - j):\n",
        "                attacks += 1\n",
        "    return attacks\n",
        "\n",
        "def random_neighbor(board):\n",
        "    n = len(board)\n",
        "    neighbor = list(board)\n",
        "    col = random.randint(0, n-1)\n",
        "    row = random.randint(0, n-1)\n",
        "    while row == neighbor[col]:\n",
        "        row = random.randint(0, n-1)\n",
        "    neighbor[col] = row\n",
        "    return neighbor\n",
        "\n",
        "def simulated_annealing(n=8, max_iter=100000, initial_temp=100, cooling_rate=0.995):\n",
        "    current_board = get_user_input(n)\n",
        "    current_heuristic = heuristic(current_board)\n",
        "    temperature = initial_temp\n",
        "    iteration = 0\n",
        "\n",
        "    print(f\"Initial heuristic: {current_heuristic}\")\n",
        "    print_board(current_board)\n",
        "\n",
        "    while temperature > 0.1 and current_heuristic > 0 and iteration < max_iter:\n",
        "        neighbor = random_neighbor(current_board)\n",
        "        neighbor_heuristic = heuristic(neighbor)\n",
        "        delta_e = current_heuristic - neighbor_heuristic\n",
        "\n",
        "        if delta_e > 0:\n",
        "            current_board = neighbor\n",
        "            current_heuristic = neighbor_heuristic\n",
        "        else:\n",
        "            probability = math.exp(delta_e / temperature)\n",
        "            if random.random() < probability:\n",
        "                current_board = neighbor\n",
        "                current_heuristic = neighbor_heuristic\n",
        "\n",
        "        temperature *= cooling_rate\n",
        "        iteration += 1\n",
        "\n",
        "        if iteration % 1000 == 0:\n",
        "            print(f\"Iteration {iteration}, Temperature: {temperature:.2f}, Heuristic: {current_heuristic}\")\n",
        "            print_board(current_board)\n",
        "\n",
        "    if current_heuristic == 0:\n",
        "        print(\"Solution found!\")\n",
        "    else:\n",
        "        print(\"Stopped without full solution. Best board found:\")\n",
        "    print(f\"Final heuristic: {current_heuristic}\")\n",
        "    print_board(current_board)\n",
        "\n",
        "if __name__ == \"__main__\":\n",
        "    simulated_annealing()\n"
      ]
    }
  ]
}