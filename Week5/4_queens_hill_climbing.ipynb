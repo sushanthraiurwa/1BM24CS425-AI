{
  "nbformat": 4,
  "nbformat_minor": 0,
  "metadata": {
    "colab": {
      "provenance": [],
      "authorship_tag": "ABX9TyNZHuVvU5VeKDPf7M3BiH1a",
      "include_colab_link": true
    },
    "kernelspec": {
      "name": "python3",
      "display_name": "Python 3"
    },
    "language_info": {
      "name": "python"
    }
  },
  "cells": [
    {
      "cell_type": "markdown",
      "metadata": {
        "id": "view-in-github",
        "colab_type": "text"
      },
      "source": [
        "<a href=\"https://colab.research.google.com/github/Shashank-u803/AI-Lab/blob/main/Week%205/4_queens_hill_climbing.ipynb\" target=\"_parent\"><img src=\"https://colab.research.google.com/assets/colab-badge.svg\" alt=\"Open In Colab\"/></a>"
      ]
    },
    {
      "cell_type": "code",
      "execution_count": 3,
      "metadata": {
        "colab": {
          "base_uri": "https://localhost:8080/"
        },
        "id": "NTr30wN-xWFI",
        "outputId": "683ecb3f-907d-4715-ef7f-f335b2f1b2e1"
      },
      "outputs": [
        {
          "output_type": "stream",
          "name": "stdout",
          "text": [
            "Enter the row positions (0 to 3) of the queens for each column:\n",
            "Column 0: 3\n",
            "Column 1: 1\n",
            "Column 2: 2\n",
            "Column 3: 0\n",
            "Step 0: Heuristic = 2\n",
            " .  .  .  Q \n",
            " .  Q  .  . \n",
            " .  .  Q  . \n",
            " Q  .  .  . \n",
            "\n",
            "Reached local minimum (no better neighbors).\n",
            "Final solution:\n",
            " .  .  .  Q \n",
            " .  Q  .  . \n",
            " .  .  Q  . \n",
            " Q  .  .  . \n",
            "\n"
          ]
        }
      ],
      "source": [
        "def get_user_input(n):\n",
        "    board = []\n",
        "    print(f\"Enter the row positions (0 to {n-1}) of the queens for each column:\")\n",
        "    for col in range(n):\n",
        "        while True:\n",
        "            try:\n",
        "                row = int(input(f\"Column {col}: \"))\n",
        "                if 0 <= row < n:\n",
        "                    board.append(row)\n",
        "                    break\n",
        "                else:\n",
        "                    print(f\"Invalid input. Please enter a number between 0 and {n-1}.\")\n",
        "            except ValueError:\n",
        "                print(\"Invalid input. Please enter an integer.\")\n",
        "    return board\n",
        "\n",
        "def print_board(board):\n",
        "    n = len(board)\n",
        "    for row in range(n):\n",
        "        line = \"\"\n",
        "        for col in range(n):\n",
        "            if board[col] == row:\n",
        "                line += \" Q \"\n",
        "            else:\n",
        "                line += \" . \"\n",
        "        print(line)\n",
        "    print()\n",
        "\n",
        "def heuristic(board):\n",
        "    n = len(board)\n",
        "    attacks = 0\n",
        "    for i in range(n):\n",
        "        for j in range(i+1, n):\n",
        "            # Check same row\n",
        "            if board[i] == board[j]:\n",
        "                attacks += 1\n",
        "            # Check same diagonal\n",
        "            if abs(board[i] - board[j]) == abs(i - j):\n",
        "                attacks += 1\n",
        "    return attacks\n",
        "\n",
        "def get_best_neighbor(board):\n",
        "    n = len(board)\n",
        "    current_heuristic = heuristic(board)\n",
        "    best_board = list(board)\n",
        "    best_heuristic = current_heuristic\n",
        "\n",
        "    for col in range(n):\n",
        "        for row in range(n):\n",
        "            if board[col] != row:\n",
        "                new_board = list(board)\n",
        "                new_board[col] = row\n",
        "                new_heuristic = heuristic(new_board)\n",
        "                if new_heuristic < best_heuristic:\n",
        "                    best_heuristic = new_heuristic\n",
        "                    best_board = new_board\n",
        "    return best_board, best_heuristic\n",
        "\n",
        "def hill_climbing_with_user_input(n):\n",
        "    board = get_user_input(n)\n",
        "    current_heuristic = heuristic(board)\n",
        "\n",
        "    steps = 0\n",
        "    while True:\n",
        "        print(f\"Step {steps}: Heuristic = {current_heuristic}\")\n",
        "        print_board(board)\n",
        "\n",
        "        if current_heuristic == 0:\n",
        "            print(\"Solution found!\")\n",
        "            return board\n",
        "\n",
        "        neighbor, neighbor_heuristic = get_best_neighbor(board)\n",
        "\n",
        "        # If no improvement, stuck at local minimum\n",
        "        if neighbor_heuristic >= current_heuristic:\n",
        "            print(\"Reached local minimum (no better neighbors).\")\n",
        "            return board\n",
        "\n",
        "        board = neighbor\n",
        "        current_heuristic = neighbor_heuristic\n",
        "        steps += 1\n",
        "\n",
        "# Run the algorithm\n",
        "if __name__ == \"__main__\":\n",
        "    n = 4\n",
        "    solution = hill_climbing_with_user_input(n)\n",
        "    print(\"Final solution:\")\n",
        "    print_board(solution)\n"
      ]
    }
  ]
}